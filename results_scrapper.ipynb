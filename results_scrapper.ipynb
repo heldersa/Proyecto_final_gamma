{
 "cells": [
  {
   "cell_type": "code",
   "execution_count": 1,
   "id": "ec236412",
   "metadata": {
    "ExecuteTime": {
     "end_time": "2023-05-05T17:44:22.769662Z",
     "start_time": "2023-05-05T17:44:22.442177Z"
    }
   },
   "outputs": [],
   "source": [
    "# Load Packages\n",
    "from bs4 import BeautifulSoup\n",
    "from lxml import etree\n",
    "import pandas as pd\n",
    "import requests\n",
    "import re"
   ]
  },
  {
   "cell_type": "markdown",
   "id": "cfb7df4f",
   "metadata": {},
   "source": [
    "**Extracting Goals and Players who scored - Done**"
   ]
  },
  {
   "cell_type": "code",
   "execution_count": 2,
   "id": "142b2034",
   "metadata": {
    "ExecuteTime": {
     "end_time": "2023-05-05T17:44:22.834876Z",
     "start_time": "2023-05-05T17:44:22.833423Z"
    }
   },
   "outputs": [],
   "source": [
    "# Define URL to scrap\n",
    "url = \"https://rfef.es/es/competiciones/division-de-honor-juvenil/acta/3886158?group=249&round=65034\""
   ]
  },
  {
   "cell_type": "code",
   "execution_count": 3,
   "id": "4ee23d88",
   "metadata": {
    "ExecuteTime": {
     "end_time": "2023-05-05T17:44:23.673681Z",
     "start_time": "2023-05-05T17:44:23.249112Z"
    }
   },
   "outputs": [],
   "source": [
    "# Send a GET request to the URL and get the HTML response\n",
    "response = requests.get(url)"
   ]
  },
  {
   "cell_type": "code",
   "execution_count": 4,
   "id": "0ca3d7e1",
   "metadata": {
    "ExecuteTime": {
     "end_time": "2023-05-05T17:44:24.085061Z",
     "start_time": "2023-05-05T17:44:23.971207Z"
    }
   },
   "outputs": [],
   "source": [
    "# Create a BeautifulSoup object from the HTML content\n",
    "#soup = BeautifulSoup(response.content, \"html.parser\")\n",
    "soup = BeautifulSoup(response.text, 'html.parser')"
   ]
  },
  {
   "cell_type": "code",
   "execution_count": 5,
   "id": "aa7da8ea",
   "metadata": {
    "ExecuteTime": {
     "end_time": "2023-05-05T15:41:25.510616Z",
     "start_time": "2023-05-05T15:41:25.505579Z"
    }
   },
   "outputs": [],
   "source": [
    "def extract_starting11_goals(soup, table_name):\n",
    "    table = soup.find(\"table\", class_=table_name)\n",
    "    \n",
    "    team1 = []\n",
    "    team2 = []\n",
    "    for count, team  in enumerate(table.find_all(\"ul\")):\n",
    "        for player in team.find_all(\"li\"):\n",
    "            if count == 0:\n",
    "                team1.append(player.text.strip())\n",
    "            else:\n",
    "                team2.append(player.text.strip())\n",
    "    return team1, team2"
   ]
  },
  {
   "cell_type": "code",
   "execution_count": 6,
   "id": "8ed7a898",
   "metadata": {
    "ExecuteTime": {
     "end_time": "2023-05-05T15:41:25.969573Z",
     "start_time": "2023-05-05T15:41:25.967267Z"
    }
   },
   "outputs": [],
   "source": [
    "def extract_minutes(team1, team2):\n",
    "    minutes1 = map(lambda x: x[:-1].split(\" \")[1], team1)\n",
    "    minutes2 = map(lambda x: x[:-1].split(\" \")[1], team2)\n",
    "    \n",
    "    team1 = map(lambda x: x[:-3], team1)\n",
    "    team2 = map(lambda x: x[:-3], team2)\n",
    "    \n",
    "    return list(minutes1), list(minutes2), list(team1), list(team2)    "
   ]
  },
  {
   "cell_type": "code",
   "execution_count": 7,
   "id": "c2033817",
   "metadata": {
    "ExecuteTime": {
     "end_time": "2023-05-05T15:41:27.498702Z",
     "start_time": "2023-05-05T15:41:27.488148Z"
    }
   },
   "outputs": [],
   "source": [
    "team1, team2 = extract_starting11_goals(soup, \"acta-result-jugardores-table\")\n",
    "minutes1, minutes2, team1, team2 = extract_minutes(team1, team2)"
   ]
  },
  {
   "cell_type": "code",
   "execution_count": 8,
   "id": "ab7b21bf",
   "metadata": {
    "ExecuteTime": {
     "end_time": "2023-05-05T15:41:28.219475Z",
     "start_time": "2023-05-05T15:41:28.188675Z"
    }
   },
   "outputs": [
    {
     "data": {
      "text/html": [
       "<div>\n",
       "<style scoped>\n",
       "    .dataframe tbody tr th:only-of-type {\n",
       "        vertical-align: middle;\n",
       "    }\n",
       "\n",
       "    .dataframe tbody tr th {\n",
       "        vertical-align: top;\n",
       "    }\n",
       "\n",
       "    .dataframe thead th {\n",
       "        text-align: right;\n",
       "    }\n",
       "</style>\n",
       "<table border=\"1\" class=\"dataframe\">\n",
       "  <thead>\n",
       "    <tr style=\"text-align: right;\">\n",
       "      <th></th>\n",
       "      <th>team1</th>\n",
       "      <th>minutes1</th>\n",
       "      <th>team2</th>\n",
       "      <th>minutes2</th>\n",
       "    </tr>\n",
       "  </thead>\n",
       "  <tbody>\n",
       "    <tr>\n",
       "      <th>0</th>\n",
       "      <td>Pablo</td>\n",
       "      <td>53</td>\n",
       "      <td>Vivas 76' (</td>\n",
       "      <td>76'</td>\n",
       "    </tr>\n",
       "    <tr>\n",
       "      <th>1</th>\n",
       "      <td>Christian</td>\n",
       "      <td>61</td>\n",
       "      <td>NaN</td>\n",
       "      <td>NaN</td>\n",
       "    </tr>\n",
       "    <tr>\n",
       "      <th>2</th>\n",
       "      <td>Ivan</td>\n",
       "      <td>89</td>\n",
       "      <td>NaN</td>\n",
       "      <td>NaN</td>\n",
       "    </tr>\n",
       "  </tbody>\n",
       "</table>\n",
       "</div>"
      ],
      "text/plain": [
       "        team1 minutes1        team2 minutes2\n",
       "0      Pablo        53  Vivas 76' (      76'\n",
       "1  Christian        61          NaN      NaN\n",
       "2       Ivan        89          NaN      NaN"
      ]
     },
     "execution_count": 8,
     "metadata": {},
     "output_type": "execute_result"
    }
   ],
   "source": [
    "pd.DataFrame({\"team1\":pd.Series(team1), \n",
    "              \"minutes1\":pd.Series(minutes1), \n",
    "              \"team2\":pd.Series(team2), \n",
    "              \"minutes2\":pd.Series(minutes2)})"
   ]
  },
  {
   "cell_type": "markdown",
   "id": "2e145197",
   "metadata": {},
   "source": [
    "**Figure Out a Way to Extract URL programatically**"
   ]
  },
  {
   "cell_type": "code",
   "execution_count": 9,
   "id": "a7865261",
   "metadata": {
    "ExecuteTime": {
     "end_time": "2023-05-05T18:19:27.390827Z",
     "start_time": "2023-05-05T18:19:26.585383Z"
    }
   },
   "outputs": [
    {
     "name": "stdout",
     "output_type": "stream",
     "text": [
      "https://rfef.es/es\n",
      "https://es.fifa.com/who-we-are/official-documents/\n",
      "https://www.rfef.es/sites/default/files/pdf/codigo-de-buen-gobierno.pdf\n",
      "https://tickets.rfef.es/\n",
      "https://shop.rfef.es/\n",
      "https://fenix.rfef.es/GestorPeticiones/\n",
      "https://fenix.rfef.es/sso/\n",
      "https://rfef.es/es/noticias/gonzalo-vale-una-copa-de-campeones\n",
      "https://rfef.es/es/noticias/alvaro-arbeloa-con-este-titulo-cerramos-un-triplete-historico-y-acabamos-invictos\n",
      "https://rfef.es/es/noticias/la-celebracion-del-real-madrid-cf-tras-ganar-la-copa-de-campeones\n",
      "https://rfef.es/es/noticias/el-real-madrid-cf-gana-al-real-betis-balompie-1-3-y-se-hace-con-su-octavo-titulo\n",
      "https://rfef.es/es/noticias/juveniles-futbol-11/copa-de-campeones\n",
      "https://www.youtube.com/watch?v=TMy-eMJqjN4\n",
      "https://www.youtube.com/watch?v=m2snltJmPAY\n",
      "https://rfef.es/es/noticias/gonzalo-vale-una-copa-de-campeones\n",
      "https://rfef.es/es/noticias/gonzalo-vale-una-copa-de-campeones\n",
      "https://rfef.es/es/noticias/alvaro-arbeloa-con-este-titulo-cerramos-un-triplete-historico-y-acabamos-invictos\n",
      "https://rfef.es/es/noticias/alvaro-arbeloa-con-este-titulo-cerramos-un-triplete-historico-y-acabamos-invictos\n",
      "https://rfef.es/es/noticias/la-celebracion-del-real-madrid-cf-tras-ganar-la-copa-de-campeones\n",
      "https://rfef.es/es/noticias/la-celebracion-del-real-madrid-cf-tras-ganar-la-copa-de-campeones\n",
      "https://www.finetwork.com/\n",
      "https://www.adidas.es/futbol\n",
      "https://www.iberia.com/\n",
      "https://www.halconviajes.com/\n",
      "https://www.cervezavictoria.es/es\n",
      "https://www.tcl.com/es/es\n",
      "https://www.alimentosdespana.es/\n",
      "https://www.multiopticas.com/es/home/\n",
      "https://www.sanitas.es/\n",
      "https://www.seur.com\n",
      "https://www.elpulpo.es/\n",
      "https://elgourmetdelaroja.com/\n",
      "https://www.sangredetoro.com/\n",
      "https://www.renfe.com/es/es\n",
      "https://www.aguasierracazorla.com/\n",
      "https://artero.com/\n",
      "https://apkrenting.com\n",
      "https://www.marcosautomocion.es\n",
      "https://wimu.es/\n",
      "https://www.tetrapak.com/es-es\n",
      "https://www.iberdrola.es/\n",
      "https://rfef.es/es\n",
      "https://www.facebook.com/RFEF\n",
      "https://twitter.com/rfef\n",
      "https://www.youtube.com/c/federacionespañolafutbol\n",
      "https://www.instagram.com/rfef/\n",
      "https://www.twitch.tv/somosrfef\n",
      "https://www.tiktok.com/@rfef\n"
     ]
    }
   ],
   "source": [
    "# function to extract html document from given url\n",
    "def getHTMLdocument(url):\n",
    "      \n",
    "    # request for HTML document of given url\n",
    "    response = requests.get(url)\n",
    "      \n",
    "    # response will be provided in JSON format\n",
    "    return response.text\n",
    "  \n",
    "    \n",
    "# assign required credentials\n",
    "# assign URL\n",
    "url_to_scrape = \"https://rfef.es/es/competiciones/division-de-honor-juvenil/\"\n",
    "  \n",
    "# create document\n",
    "html_document = getHTMLdocument(url_to_scrape)\n",
    "  \n",
    "# create soap object\n",
    "soup = BeautifulSoup(html_document, 'html.parser')\n",
    "  \n",
    "  \n",
    "# find all the anchor tags with \"href\" \n",
    "# attribute starting with \"https://\"\n",
    "for link in soup.find_all('a', \n",
    "                          attrs={'href': re.compile(\"^https://\")}):\n",
    "    # display the actual urls\n",
    "    print(link.get('href'))  "
   ]
  },
  {
   "cell_type": "code",
   "execution_count": 10,
   "id": "7429bb6f",
   "metadata": {
    "ExecuteTime": {
     "end_time": "2023-05-05T15:46:53.631620Z",
     "start_time": "2023-05-05T15:46:53.307831Z"
    }
   },
   "outputs": [],
   "source": [
    "url = \"https://rfef.es/es/competiciones/division-de-honor-juvenil/\"#\"https://rfef.es/es/competiciones/division-de-honor-juvenil/\"\n",
    "\n",
    "response = requests.get(url)\n",
    "html_content = response.text\n",
    "\n",
    "# Parse the HTML content using BeautifulSoup\n",
    "soup = BeautifulSoup(html_content, 'html.parser')"
   ]
  },
  {
   "cell_type": "code",
   "execution_count": 11,
   "id": "0a067602",
   "metadata": {
    "ExecuteTime": {
     "end_time": "2023-05-05T15:35:28.497565Z",
     "start_time": "2023-05-05T15:35:28.488708Z"
    }
   },
   "outputs": [],
   "source": [
    "# Find all the links in the HTML content using BeautifulSoup\n",
    "links = []\n",
    "for link in soup.find_all('a'):\n",
    "    href = link.get('href')\n",
    "    if href is not None:\n",
    "        links.append(href)"
   ]
  },
  {
   "cell_type": "code",
   "execution_count": 12,
   "id": "4e582a39",
   "metadata": {
    "ExecuteTime": {
     "end_time": "2023-05-05T15:34:23.303218Z",
     "start_time": "2023-05-05T15:34:23.298921Z"
    }
   },
   "outputs": [
    {
     "name": "stdout",
     "output_type": "stream",
     "text": [
      "URLs: ['/es/competiciones/division-de-honor-juvenil', '/es/competiciones/division-de-honor-juvenil', '/es/competiciones/division-de-honor-juvenil', '/es/competiciones/division-de-honor-juvenil', '/es/competiciones/division-de-honor-juvenil', '/es/competiciones/division-de-honor-juvenil', '/es/competiciones/division-de-honor-juvenil']\n"
     ]
    }
   ],
   "source": [
    "# Find all the URLs in the HTML content using regular expressions\n",
    "urls = re.findall(r'/es/competiciones/division-de-honor-juvenil', html_content)\n",
    "\n",
    "# Print the links and URLs\n",
    "#print('Links:', links)\n",
    "print('URLs:', urls)\n"
   ]
  },
  {
   "cell_type": "code",
   "execution_count": null,
   "id": "8f19cedd",
   "metadata": {
    "ExecuteTime": {
     "end_time": "2023-05-05T15:47:55.451109Z",
     "start_time": "2023-05-05T15:47:55.392834Z"
    }
   },
   "outputs": [],
   "source": [
    "dom = etree.HTML(str(soup))\n",
    "print(dom.xpath('//*[@id=\"resultados-tab\"]/span')[0].text)"
   ]
  },
  {
   "cell_type": "code",
   "execution_count": null,
   "id": "9513afd6",
   "metadata": {},
   "outputs": [],
   "source": []
  },
  {
   "cell_type": "code",
   "execution_count": null,
   "id": "f361bc8f",
   "metadata": {},
   "outputs": [],
   "source": []
  },
  {
   "cell_type": "code",
   "execution_count": null,
   "id": "f3566a6c",
   "metadata": {
    "ExecuteTime": {
     "end_time": "2023-05-05T15:52:22.230021Z",
     "start_time": "2023-05-05T15:52:21.853422Z"
    }
   },
   "outputs": [],
   "source": [
    "url = \"https://rfef.es/es/competiciones/division-de-honor-juvenil/\"\n",
    "response = requests.get(url)\n",
    "soup = BeautifulSoup(response.content, \"html5lib\")"
   ]
  },
  {
   "cell_type": "code",
   "execution_count": null,
   "id": "ef552cd6",
   "metadata": {
    "ExecuteTime": {
     "end_time": "2023-05-05T15:52:25.474483Z",
     "start_time": "2023-05-05T15:52:25.415945Z"
    }
   },
   "outputs": [],
   "source": [
    "print(soup.prettify())"
   ]
  },
  {
   "cell_type": "code",
   "execution_count": 15,
   "id": "00e6a21d",
   "metadata": {},
   "outputs": [
    {
     "ename": "SyntaxError",
     "evalue": "invalid syntax (1059753293.py, line 1)",
     "output_type": "error",
     "traceback": [
      "\u001b[1;36m  Cell \u001b[1;32mIn[15], line 1\u001b[1;36m\u001b[0m\n\u001b[1;33m    <a class=\"we-mega-menu-li\" href=\"http://actas.rfef.es/actas/RFEF_CmpJornada?cod_primaria=1000144&amp;CodCategoria=100\" target=\"\" title=\"\">\u001b[0m\n\u001b[1;37m    ^\u001b[0m\n\u001b[1;31mSyntaxError\u001b[0m\u001b[1;31m:\u001b[0m invalid syntax\n"
     ]
    }
   ],
   "source": [
    "<a class=\"we-mega-menu-li\" href=\"http://actas.rfef.es/actas/RFEF_CmpJornada?cod_primaria=1000144&amp;CodCategoria=100\" target=\"\" title=\"\">\n",
    "                            Actas"
   ]
  },
  {
   "cell_type": "markdown",
   "id": "d299a548",
   "metadata": {},
   "source": [
    "**Table for starting 11 - WORK IN PROGRESS**"
   ]
  },
  {
   "cell_type": "code",
   "execution_count": 13,
   "id": "075093bd",
   "metadata": {
    "ExecuteTime": {
     "end_time": "2023-05-05T17:53:36.345369Z",
     "start_time": "2023-05-05T17:53:36.331601Z"
    }
   },
   "outputs": [
    {
     "ename": "AttributeError",
     "evalue": "'NoneType' object has no attribute 'find_all'",
     "output_type": "error",
     "traceback": [
      "\u001b[1;31m---------------------------------------------------------------------------\u001b[0m",
      "\u001b[1;31mAttributeError\u001b[0m                            Traceback (most recent call last)",
      "Cell \u001b[1;32mIn[13], line 2\u001b[0m\n\u001b[0;32m      1\u001b[0m table \u001b[38;5;241m=\u001b[39m soup\u001b[38;5;241m.\u001b[39mfind(\u001b[38;5;124m\"\u001b[39m\u001b[38;5;124mtable\u001b[39m\u001b[38;5;124m\"\u001b[39m, class_\u001b[38;5;241m=\u001b[39m\u001b[38;5;124m\"\u001b[39m\u001b[38;5;124macta-titulares-table\u001b[39m\u001b[38;5;124m\"\u001b[39m)\n\u001b[1;32m----> 2\u001b[0m row \u001b[38;5;241m=\u001b[39m \u001b[43mtable\u001b[49m\u001b[38;5;241;43m.\u001b[39;49m\u001b[43mfind_all\u001b[49m(\u001b[38;5;124m\"\u001b[39m\u001b[38;5;124mtr\u001b[39m\u001b[38;5;124m\"\u001b[39m)\n\u001b[0;32m      3\u001b[0m team1, minute1 \u001b[38;5;241m=\u001b[39m [], []\n\u001b[0;32m      4\u001b[0m team2, minute2 \u001b[38;5;241m=\u001b[39m [], []\n",
      "\u001b[1;31mAttributeError\u001b[0m: 'NoneType' object has no attribute 'find_all'"
     ]
    }
   ],
   "source": [
    "table = soup.find(\"table\", class_=\"acta-titulares-table\")\n",
    "row = table.find_all(\"tr\")\n",
    "team1, minute1 = [], []\n",
    "team2, minute2 = [], []\n",
    "for i in range(1, len(row)):\n",
    "    players = row[i].find_all(\"td\")\n",
    "    player1, player2 = str(players[0].text.strip()), str(players[1].text.strip())\n",
    "    player1, player2 = re.sub(\"^[1-9]|'| \",\"\",player1).split(\"\\n\"), re.sub(\"^[1-9]|'| \",\"\",player2).split(\"\\n\")\n",
    "    while(\"\" in player1):\n",
    "        player1.remove(\"\")\n",
    "    try:\n",
    "        team1.append(player1[0])\n",
    "        minute1.append(player1[1])\n",
    "    except IndexError:\n",
    "        minute1.append(str(\"\"))\n",
    "    while(\"\" in player2):\n",
    "        player2.remove(\"\")\n",
    "    try:\n",
    "        team2.append(player2[0])\n",
    "        minute2.append(player2[1])\n",
    "    except IndexError:\n",
    "        minute2.append(str(\"\"))"
   ]
  },
  {
   "cell_type": "code",
   "execution_count": 14,
   "id": "c3794c76",
   "metadata": {
    "ExecuteTime": {
     "end_time": "2023-05-05T17:55:13.208545Z",
     "start_time": "2023-05-05T17:55:13.203831Z"
    }
   },
   "outputs": [
    {
     "ename": "NameError",
     "evalue": "name 'minute2' is not defined",
     "output_type": "error",
     "traceback": [
      "\u001b[1;31m---------------------------------------------------------------------------\u001b[0m",
      "\u001b[1;31mNameError\u001b[0m                                 Traceback (most recent call last)",
      "Cell \u001b[1;32mIn[14], line 1\u001b[0m\n\u001b[1;32m----> 1\u001b[0m \u001b[43mminute2\u001b[49m\n",
      "\u001b[1;31mNameError\u001b[0m: name 'minute2' is not defined"
     ]
    }
   ],
   "source": [
    "minute2"
   ]
  }
 ],
 "metadata": {
  "kernelspec": {
   "display_name": "Python 3 (ipykernel)",
   "language": "python",
   "name": "python3"
  },
  "language_info": {
   "codemirror_mode": {
    "name": "ipython",
    "version": 3
   },
   "file_extension": ".py",
   "mimetype": "text/x-python",
   "name": "python",
   "nbconvert_exporter": "python",
   "pygments_lexer": "ipython3",
   "version": "3.11.4"
  },
  "toc": {
   "base_numbering": 1,
   "nav_menu": {},
   "number_sections": true,
   "sideBar": true,
   "skip_h1_title": false,
   "title_cell": "Table of Contents",
   "title_sidebar": "Contents",
   "toc_cell": false,
   "toc_position": {},
   "toc_section_display": true,
   "toc_window_display": false
  },
  "varInspector": {
   "cols": {
    "lenName": 16,
    "lenType": 16,
    "lenVar": 40
   },
   "kernels_config": {
    "python": {
     "delete_cmd_postfix": "",
     "delete_cmd_prefix": "del ",
     "library": "var_list.py",
     "varRefreshCmd": "print(var_dic_list())"
    },
    "r": {
     "delete_cmd_postfix": ") ",
     "delete_cmd_prefix": "rm(",
     "library": "var_list.r",
     "varRefreshCmd": "cat(var_dic_list()) "
    }
   },
   "types_to_exclude": [
    "module",
    "function",
    "builtin_function_or_method",
    "instance",
    "_Feature"
   ],
   "window_display": false
  }
 },
 "nbformat": 4,
 "nbformat_minor": 5
}
